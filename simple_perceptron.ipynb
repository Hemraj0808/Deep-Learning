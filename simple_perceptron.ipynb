{
  "nbformat": 4,
  "nbformat_minor": 0,
  "metadata": {
    "colab": {
      "provenance": [],
      "authorship_tag": "ABX9TyPLbREujnO0U4fWn7Ovezly",
      "include_colab_link": true
    },
    "kernelspec": {
      "name": "python3",
      "display_name": "Python 3"
    },
    "language_info": {
      "name": "python"
    }
  },
  "cells": [
    {
      "cell_type": "markdown",
      "metadata": {
        "id": "view-in-github",
        "colab_type": "text"
      },
      "source": [
        "<a href=\"https://colab.research.google.com/github/Hemraj0808/Deep-Learning/blob/main/simple_perceptron.ipynb\" target=\"_parent\"><img src=\"https://colab.research.google.com/assets/colab-badge.svg\" alt=\"Open In Colab\"/></a>"
      ]
    },
    {
      "cell_type": "code",
      "execution_count": null,
      "metadata": {
        "id": "r6WYXGzTDdA2"
      },
      "outputs": [],
      "source": [
        "# implementation of a simple artificial neuron (also known as a perceptron) with a sigmoid activation function.\n",
        "\n",
        "\n",
        "\n",
        "import numpy as np\n",
        "\n",
        "def sigmoid(x):\n",
        "  #our activation function: f(x) = 1/(1+e^-x)\n",
        "    return 1/(1+np.exp(-x))\n",
        "\n",
        "# self is used to store object name because python is object-oriented language\n",
        "class Neuron:\n",
        "    def __init__(self, weights, bias): # __init__ is constructor , use to initialize the object, it is pre-defined, first complier search for it if class isz defined\n",
        "        self.weights = weights # this is written for assining memory location\n",
        "        self.bias = bias # this is written for memory location\n",
        "\n",
        "    def feedforward(self, inputs):\n",
        "      # Weight inputs, add bias, then use the activation function\n",
        "        total = np.dot(self.weights, inputs) + self.bias # total = (w1x1 + w2x2) +b1\n",
        "        return sigmoid(total) # return is used to return the value and exit the function\n",
        "\n",
        "weight = np.array([0,1]) # w1 = 0, w2 = 1\n",
        "bias = 4\n",
        "n = Neuron(weight, bias) # n = objectname , Neuron = class name\n",
        "\n",
        "x = np.array([2,3]) # x1=2, x2=3\n",
        "print(n.feedforward(x))"
      ]
    }
  ]
}